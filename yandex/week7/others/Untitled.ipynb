{
 "cells": [
  {
   "cell_type": "markdown",
   "metadata": {},
   "source": [
    "# Финальное задание (Иванов Павел)"
   ]
  },
  {
   "cell_type": "markdown",
   "metadata": {},
   "source": [
    "## 1. Работа с данными"
   ]
  },
  {
   "cell_type": "markdown",
   "metadata": {},
   "source": [
    "#### Импортируем нужные библиотеки"
   ]
  },
  {
   "cell_type": "code",
   "execution_count": 62,
   "metadata": {},
   "outputs": [],
   "source": [
    "import numpy as np\n",
    "import pandas as pd\n",
    "import datetime\n",
    "from sklearn.model_selection import KFold\n",
    "from sklearn.metrics import roc_auc_score\n",
    "from sklearn.preprocessing import StandardScaler\n",
    "from sklearn.ensemble import GradientBoostingClassifier\n",
    "from sklearn.linear_model import LogisticRegression"
   ]
  },
  {
   "cell_type": "markdown",
   "metadata": {},
   "source": [
    "#### Считываем данные"
   ]
  },
  {
   "cell_type": "code",
   "execution_count": 63,
   "metadata": {},
   "outputs": [
    {
     "data": {
      "text/html": [
       "<div>\n",
       "<style scoped>\n",
       "    .dataframe tbody tr th:only-of-type {\n",
       "        vertical-align: middle;\n",
       "    }\n",
       "\n",
       "    .dataframe tbody tr th {\n",
       "        vertical-align: top;\n",
       "    }\n",
       "\n",
       "    .dataframe thead th {\n",
       "        text-align: right;\n",
       "    }\n",
       "</style>\n",
       "<table border=\"1\" class=\"dataframe\">\n",
       "  <thead>\n",
       "    <tr style=\"text-align: right;\">\n",
       "      <th></th>\n",
       "      <th>start_time</th>\n",
       "      <th>lobby_type</th>\n",
       "      <th>r1_hero</th>\n",
       "      <th>r1_level</th>\n",
       "      <th>r1_xp</th>\n",
       "      <th>r1_gold</th>\n",
       "      <th>r1_lh</th>\n",
       "      <th>r1_kills</th>\n",
       "      <th>r1_deaths</th>\n",
       "      <th>r1_items</th>\n",
       "      <th>...</th>\n",
       "      <th>dire_boots_count</th>\n",
       "      <th>dire_ward_observer_count</th>\n",
       "      <th>dire_ward_sentry_count</th>\n",
       "      <th>dire_first_ward_time</th>\n",
       "      <th>duration</th>\n",
       "      <th>radiant_win</th>\n",
       "      <th>tower_status_radiant</th>\n",
       "      <th>tower_status_dire</th>\n",
       "      <th>barracks_status_radiant</th>\n",
       "      <th>barracks_status_dire</th>\n",
       "    </tr>\n",
       "    <tr>\n",
       "      <th>match_id</th>\n",
       "      <th></th>\n",
       "      <th></th>\n",
       "      <th></th>\n",
       "      <th></th>\n",
       "      <th></th>\n",
       "      <th></th>\n",
       "      <th></th>\n",
       "      <th></th>\n",
       "      <th></th>\n",
       "      <th></th>\n",
       "      <th></th>\n",
       "      <th></th>\n",
       "      <th></th>\n",
       "      <th></th>\n",
       "      <th></th>\n",
       "      <th></th>\n",
       "      <th></th>\n",
       "      <th></th>\n",
       "      <th></th>\n",
       "      <th></th>\n",
       "      <th></th>\n",
       "    </tr>\n",
       "  </thead>\n",
       "  <tbody>\n",
       "    <tr>\n",
       "      <th>0</th>\n",
       "      <td>1430198770</td>\n",
       "      <td>7</td>\n",
       "      <td>11</td>\n",
       "      <td>5</td>\n",
       "      <td>2098</td>\n",
       "      <td>1489</td>\n",
       "      <td>20</td>\n",
       "      <td>0</td>\n",
       "      <td>0</td>\n",
       "      <td>7</td>\n",
       "      <td>...</td>\n",
       "      <td>4</td>\n",
       "      <td>2</td>\n",
       "      <td>2</td>\n",
       "      <td>-52.0</td>\n",
       "      <td>2874</td>\n",
       "      <td>1</td>\n",
       "      <td>1796</td>\n",
       "      <td>0</td>\n",
       "      <td>51</td>\n",
       "      <td>0</td>\n",
       "    </tr>\n",
       "    <tr>\n",
       "      <th>1</th>\n",
       "      <td>1430220345</td>\n",
       "      <td>0</td>\n",
       "      <td>42</td>\n",
       "      <td>4</td>\n",
       "      <td>1188</td>\n",
       "      <td>1033</td>\n",
       "      <td>9</td>\n",
       "      <td>0</td>\n",
       "      <td>1</td>\n",
       "      <td>12</td>\n",
       "      <td>...</td>\n",
       "      <td>4</td>\n",
       "      <td>3</td>\n",
       "      <td>1</td>\n",
       "      <td>-5.0</td>\n",
       "      <td>2463</td>\n",
       "      <td>1</td>\n",
       "      <td>1974</td>\n",
       "      <td>0</td>\n",
       "      <td>63</td>\n",
       "      <td>1</td>\n",
       "    </tr>\n",
       "    <tr>\n",
       "      <th>2</th>\n",
       "      <td>1430227081</td>\n",
       "      <td>7</td>\n",
       "      <td>33</td>\n",
       "      <td>4</td>\n",
       "      <td>1319</td>\n",
       "      <td>1270</td>\n",
       "      <td>22</td>\n",
       "      <td>0</td>\n",
       "      <td>0</td>\n",
       "      <td>12</td>\n",
       "      <td>...</td>\n",
       "      <td>4</td>\n",
       "      <td>3</td>\n",
       "      <td>1</td>\n",
       "      <td>13.0</td>\n",
       "      <td>2130</td>\n",
       "      <td>0</td>\n",
       "      <td>0</td>\n",
       "      <td>1830</td>\n",
       "      <td>0</td>\n",
       "      <td>63</td>\n",
       "    </tr>\n",
       "    <tr>\n",
       "      <th>3</th>\n",
       "      <td>1430263531</td>\n",
       "      <td>1</td>\n",
       "      <td>29</td>\n",
       "      <td>4</td>\n",
       "      <td>1779</td>\n",
       "      <td>1056</td>\n",
       "      <td>14</td>\n",
       "      <td>0</td>\n",
       "      <td>0</td>\n",
       "      <td>5</td>\n",
       "      <td>...</td>\n",
       "      <td>4</td>\n",
       "      <td>2</td>\n",
       "      <td>0</td>\n",
       "      <td>27.0</td>\n",
       "      <td>1459</td>\n",
       "      <td>0</td>\n",
       "      <td>1920</td>\n",
       "      <td>2047</td>\n",
       "      <td>50</td>\n",
       "      <td>63</td>\n",
       "    </tr>\n",
       "    <tr>\n",
       "      <th>4</th>\n",
       "      <td>1430282290</td>\n",
       "      <td>7</td>\n",
       "      <td>13</td>\n",
       "      <td>4</td>\n",
       "      <td>1431</td>\n",
       "      <td>1090</td>\n",
       "      <td>8</td>\n",
       "      <td>1</td>\n",
       "      <td>0</td>\n",
       "      <td>8</td>\n",
       "      <td>...</td>\n",
       "      <td>3</td>\n",
       "      <td>3</td>\n",
       "      <td>0</td>\n",
       "      <td>-16.0</td>\n",
       "      <td>2449</td>\n",
       "      <td>0</td>\n",
       "      <td>4</td>\n",
       "      <td>1974</td>\n",
       "      <td>3</td>\n",
       "      <td>63</td>\n",
       "    </tr>\n",
       "  </tbody>\n",
       "</table>\n",
       "<p>5 rows × 108 columns</p>\n",
       "</div>"
      ],
      "text/plain": [
       "          start_time  lobby_type  r1_hero  r1_level  r1_xp  r1_gold  r1_lh  \\\n",
       "match_id                                                                     \n",
       "0         1430198770           7       11         5   2098     1489     20   \n",
       "1         1430220345           0       42         4   1188     1033      9   \n",
       "2         1430227081           7       33         4   1319     1270     22   \n",
       "3         1430263531           1       29         4   1779     1056     14   \n",
       "4         1430282290           7       13         4   1431     1090      8   \n",
       "\n",
       "          r1_kills  r1_deaths  r1_items          ...           \\\n",
       "match_id                                         ...            \n",
       "0                0          0         7          ...            \n",
       "1                0          1        12          ...            \n",
       "2                0          0        12          ...            \n",
       "3                0          0         5          ...            \n",
       "4                1          0         8          ...            \n",
       "\n",
       "          dire_boots_count  dire_ward_observer_count  dire_ward_sentry_count  \\\n",
       "match_id                                                                       \n",
       "0                        4                         2                       2   \n",
       "1                        4                         3                       1   \n",
       "2                        4                         3                       1   \n",
       "3                        4                         2                       0   \n",
       "4                        3                         3                       0   \n",
       "\n",
       "          dire_first_ward_time  duration  radiant_win  tower_status_radiant  \\\n",
       "match_id                                                                      \n",
       "0                        -52.0      2874            1                  1796   \n",
       "1                         -5.0      2463            1                  1974   \n",
       "2                         13.0      2130            0                     0   \n",
       "3                         27.0      1459            0                  1920   \n",
       "4                        -16.0      2449            0                     4   \n",
       "\n",
       "          tower_status_dire  barracks_status_radiant  barracks_status_dire  \n",
       "match_id                                                                    \n",
       "0                         0                       51                     0  \n",
       "1                         0                       63                     1  \n",
       "2                      1830                        0                    63  \n",
       "3                      2047                       50                    63  \n",
       "4                      1974                        3                    63  \n",
       "\n",
       "[5 rows x 108 columns]"
      ]
     },
     "execution_count": 63,
     "metadata": {},
     "output_type": "execute_result"
    }
   ],
   "source": [
    "data_x = pd.read_csv('C:/features.csv', index_col='match_id')\n",
    "data_x.head()"
   ]
  },
  {
   "cell_type": "markdown",
   "metadata": {},
   "source": [
    "#### Выделяем целевую переменную \"radiant_win\""
   ]
  },
  {
   "cell_type": "code",
   "execution_count": 64,
   "metadata": {},
   "outputs": [],
   "source": [
    "data_y = data_x.pop('radiant_win')"
   ]
  },
  {
   "cell_type": "markdown",
   "metadata": {},
   "source": [
    "#### Удалим признаки сильно связанные с целевой меткой, что бы алгоритмы сильно на них не настраивались"
   ]
  },
  {
   "cell_type": "code",
   "execution_count": 65,
   "metadata": {},
   "outputs": [
    {
     "data": {
      "text/plain": [
       "match_id\n",
       "0          0\n",
       "1          1\n",
       "2         63\n",
       "3         63\n",
       "4         63\n",
       "5         63\n",
       "8         63\n",
       "9          0\n",
       "11        63\n",
       "12        63\n",
       "14        63\n",
       "15        63\n",
       "17         0\n",
       "20        15\n",
       "21        63\n",
       "22         0\n",
       "23        48\n",
       "25         3\n",
       "26         0\n",
       "27        48\n",
       "28         3\n",
       "29         3\n",
       "30         3\n",
       "31         0\n",
       "32         3\n",
       "34         0\n",
       "35        63\n",
       "36        63\n",
       "38        63\n",
       "39        63\n",
       "          ..\n",
       "114373    51\n",
       "114374    63\n",
       "114375    51\n",
       "114376    63\n",
       "114379     3\n",
       "114380    63\n",
       "114381    63\n",
       "114382    59\n",
       "114383    63\n",
       "114384     3\n",
       "114385    63\n",
       "114386    51\n",
       "114387     3\n",
       "114388     3\n",
       "114389     0\n",
       "114390    63\n",
       "114391    63\n",
       "114392    63\n",
       "114394    56\n",
       "114395     0\n",
       "114396     2\n",
       "114397     0\n",
       "114399    63\n",
       "114400     0\n",
       "114401    35\n",
       "114402    63\n",
       "114403     3\n",
       "114404    63\n",
       "114405    63\n",
       "114406     0\n",
       "Name: barracks_status_dire, Length: 97230, dtype: int64"
      ]
     },
     "execution_count": 65,
     "metadata": {},
     "output_type": "execute_result"
    }
   ],
   "source": [
    "data_x.pop('tower_status_radiant') \n",
    "data_x.pop('tower_status_dire') \n",
    "data_x.pop('barracks_status_radiant') \n",
    "data_x.pop('barracks_status_dire')"
   ]
  },
  {
   "cell_type": "markdown",
   "metadata": {},
   "source": [
    "#### Удалим непонятный признак"
   ]
  },
  {
   "cell_type": "code",
   "execution_count": 66,
   "metadata": {},
   "outputs": [
    {
     "data": {
      "text/plain": [
       "(97230, 102)"
      ]
     },
     "execution_count": 66,
     "metadata": {},
     "output_type": "execute_result"
    }
   ],
   "source": [
    "data_x.pop('duration') \n",
    "data_x.shape"
   ]
  },
  {
   "cell_type": "markdown",
   "metadata": {},
   "source": [
    "#### Найдём пропуски в данных"
   ]
  },
  {
   "cell_type": "code",
   "execution_count": 67,
   "metadata": {},
   "outputs": [
    {
     "data": {
      "text/plain": [
       "Index(['dire_flying_courier_time', 'dire_first_ward_time', 'first_blood_time',\n",
       "       'first_blood_team', 'first_blood_player1', 'first_blood_player2',\n",
       "       'radiant_bottle_time', 'radiant_courier_time',\n",
       "       'radiant_flying_courier_time', 'radiant_first_ward_time',\n",
       "       'dire_bottle_time', 'dire_courier_time'],\n",
       "      dtype='object')"
      ]
     },
     "execution_count": 67,
     "metadata": {},
     "output_type": "execute_result"
    }
   ],
   "source": [
    "data_x.columns[list(set(np.where(pd.isnull(data_x))[1]))]"
   ]
  },
  {
   "cell_type": "markdown",
   "metadata": {},
   "source": [
    "Получаем 12 признаков с пропусками:\n",
    "#1  'dire_flying_courier_time'- время приобретения предмета \"flying_courier\", вероятно герой не использовал его;\n",
    "#2  'dire_first_ward_time' - время установки командой первого \"наблюдателя\", возможно команда не успела сделать это;\n",
    "#3  'first_blood_time' -  игровое время первой крови, возможно в первые 5 минут не было этого события;\n",
    "#4  'first_blood_team' - команда, совершившая первую кровь, возможно в первые 5 минут не было этого события; \n",
    "#5  'first_blood_player1' - игрок, причастный к событию, похоже нет события - нет метки об игроке; \n",
    "#6  'first_blood_player2' - второй игрок, причастный к событию, похоже нет события - нет метки об игроке;\n",
    "#7  'radiant_bottle_time' - время первого приобретения командой предмета \"bottle\", возможно предмет не приобретался; \n",
    "#8  'radiant_courier_time' - время приобретения предмета \"courier\", возможно предмет не приобретался во время снятия представленных данных;\n",
    "#9 'radiant_flying_courier_time'- время приобретения предмета \"flying_courier\", вероятно герой не использовал его; \n",
    "#10 'radiant_first_ward_time' - время установки командой первого \"наблюдателя\", возможно команда не успела сделать это;  \n",
    "#11 'dire_bottle_time' - время первого приобретения командой предмета \"bottle\", возможно предмет не приобретался; \n",
    "#12 'dire_courier_time' - время приобретения предмета \"courier\", возможно предмет не приобретался во время снятия представленных данных.\n"
   ]
  },
  {
   "cell_type": "markdown",
   "metadata": {},
   "source": [
    "#### Заменим пропуски"
   ]
  },
  {
   "cell_type": "code",
   "execution_count": 68,
   "metadata": {},
   "outputs": [
    {
     "data": {
      "text/plain": [
       "Index([], dtype='object')"
      ]
     },
     "execution_count": 68,
     "metadata": {},
     "output_type": "execute_result"
    }
   ],
   "source": [
    "data_x = data_x.fillna(0)\n",
    "data_x.columns[list(set(np.where(pd.isnull(data_x))[1]))] #Ожидаем массива без объектов"
   ]
  },
  {
   "cell_type": "markdown",
   "metadata": {},
   "source": [
    "#### Настрои кросс-валидацию"
   ]
  },
  {
   "cell_type": "code",
   "execution_count": 8,
   "metadata": {},
   "outputs": [],
   "source": [
    "cv = KFold(n_splits=5, shuffle=True, random_state=241);"
   ]
  },
  {
   "cell_type": "markdown",
   "metadata": {},
   "source": [
    "## 2. Градиентный бустинг"
   ]
  },
  {
   "cell_type": "markdown",
   "metadata": {},
   "source": [
    "#### Запускаем обучение"
   ]
  },
  {
   "cell_type": "code",
   "execution_count": 9,
   "metadata": {},
   "outputs": [
    {
     "name": "stdout",
     "output_type": "stream",
     "text": [
      "Градиентный бустинг: 10 деревьев\n",
      "ROC-AUC: 0.6636054026335821\n",
      "Алгоритм обучался по KFold: 0:00:45.487909\n",
      "Градиентный бустинг: 20 деревьев\n",
      "ROC-AUC: 0.6870475739899333\n",
      "Алгоритм обучался по KFold: 0:01:16.082897\n",
      "Градиентный бустинг: 30 деревьев\n",
      "ROC-AUC: 0.6975609299728723\n",
      "Алгоритм обучался по KFold: 0:02:13.435672\n",
      "Градиентный бустинг: 40 деревьев\n",
      "ROC-AUC: 0.7036277765401293\n",
      "Алгоритм обучался по KFold: 0:03:10.761452\n",
      "Градиентный бустинг: 50 деревьев\n",
      "ROC-AUC: 0.7080931711048563\n",
      "Алгоритм обучался по KFold: 0:03:49.806635\n"
     ]
    }
   ],
   "source": [
    "for i in (10, 20, 30, 40, 50):\n",
    "    print ('Градиентный бустинг:', i, 'деревьев')\n",
    "    score = 0;\n",
    "    model1 = GradientBoostingClassifier(n_estimators=i, random_state=241)\n",
    "    start_time = datetime.datetime.now()\n",
    "    for train, test in cv.split(data_x):\n",
    "        model1.fit(data_x.iloc[train], data_y.iloc[train])\n",
    "        predict = model1.predict_proba(data_x.iloc[test])\n",
    "        score = score + roc_auc_score(data_y.iloc[test], predict.transpose()[1])\n",
    "    print ('ROC-AUC:', score/5)\n",
    "    print ('Алгоритм обучался по KFold:', datetime.datetime.now() - start_time)"
   ]
  },
  {
   "cell_type": "markdown",
   "metadata": {},
   "source": [
    "## 3. Линейная регрессия"
   ]
  },
  {
   "cell_type": "markdown",
   "metadata": {},
   "source": [
    "#### Нормализуем данные"
   ]
  },
  {
   "cell_type": "code",
   "execution_count": 69,
   "metadata": {},
   "outputs": [],
   "source": [
    "scaler = StandardScaler()\n",
    "data_x_normal = scaler.fit_transform(data_x)"
   ]
  },
  {
   "cell_type": "markdown",
   "metadata": {},
   "source": [
    "#### Запускаем обучение"
   ]
  },
  {
   "cell_type": "code",
   "execution_count": 11,
   "metadata": {},
   "outputs": [
    {
     "name": "stdout",
     "output_type": "stream",
     "text": [
      "Регуляризация(C): 1e-05\n",
      "ROC-AUC: 0.6975163523542433\n",
      "Алгоритм обучался по KFold: 0:00:05.925687\n",
      "Регуляризация(C): 0.0001\n",
      "ROC-AUC: 0.714059039904311\n",
      "Алгоритм обучался по KFold: 0:00:09.290335\n",
      "Регуляризация(C): 0.001\n",
      "ROC-AUC: 0.7189976467269782\n",
      "Алгоритм обучался по KFold: 0:00:17.713959\n",
      "Регуляризация(C): 0.01\n",
      "ROC-AUC: 0.7191670463622615\n",
      "Алгоритм обучался по KFold: 0:00:22.888095\n",
      "Регуляризация(C): 1.0\n",
      "ROC-AUC: 0.71913613970466\n",
      "Алгоритм обучался по KFold: 0:00:25.372010\n",
      "Регуляризация(C): 10.0\n",
      "ROC-AUC: 0.7191355252996446\n",
      "Алгоритм обучался по KFold: 0:00:25.430042\n",
      "Регуляризация(C): 100.0\n",
      "ROC-AUC: 0.7191353706280719\n",
      "Алгоритм обучался по KFold: 0:00:25.737378\n",
      "Регуляризация(C): 1000.0\n",
      "ROC-AUC: 0.7191353791073956\n",
      "Алгоритм обучался по KFold: 0:00:26.047168\n",
      "Регуляризация(C): 10000.0\n",
      "ROC-AUC: 0.719135376987021\n",
      "Алгоритм обучался по KFold: 0:00:24.987703\n",
      "Регуляризация(C): 100000.0\n",
      "ROC-AUC: 0.7191353812240984\n",
      "Алгоритм обучался по KFold: 0:00:25.539126\n"
     ]
    }
   ],
   "source": [
    "for i in (0.00001, 0.0001, 0.001, 0.01, 1.0, 10.0, 100.0, 1000.0, 10000.0, 100000.0):\n",
    "    print ('Регуляризация(C):', i)\n",
    "    score = 0;\n",
    "    model2 = LogisticRegression(random_state=241, penalty='l2', C=i)\n",
    "    start_time = datetime.datetime.now()\n",
    "    for train, test in cv.split(data_x_normal):\n",
    "        model2.fit(data_x_normal[train], data_y.iloc[train])\n",
    "        predict = model2.predict_proba(data_x_normal[test])\n",
    "        score = score + roc_auc_score(data_y.iloc[test], predict.transpose()[1])\n",
    "    print ('ROC-AUC:', score/5)\n",
    "    print ('Алгоритм обучался по KFold:', datetime.datetime.now() - start_time)"
   ]
  },
  {
   "cell_type": "markdown",
   "metadata": {},
   "source": [
    "## 4. Линейная регрессия - категориальные признаки"
   ]
  },
  {
   "cell_type": "markdown",
   "metadata": {},
   "source": [
    "#### Удалим категориальные признаки"
   ]
  },
  {
   "cell_type": "code",
   "execution_count": 70,
   "metadata": {},
   "outputs": [
    {
     "name": "stdout",
     "output_type": "stream",
     "text": [
      "Размер объекта до: (97230, 102)\n",
      "Размер объекта после: (97230, 91)\n"
     ]
    }
   ],
   "source": [
    "data_x_without = data_x.copy()\n",
    "print('Размер объекта до:', data_x_without.shape)\n",
    "data_x_without.pop('lobby_type')\n",
    "data_x_without.pop('r1_hero')\n",
    "data_x_without.pop('r2_hero')\n",
    "data_x_without.pop('r3_hero')\n",
    "data_x_without.pop('r4_hero')\n",
    "data_x_without.pop('r5_hero')\n",
    "data_x_without.pop('d1_hero')\n",
    "data_x_without.pop('d2_hero')\n",
    "data_x_without.pop('d3_hero')\n",
    "data_x_without.pop('d4_hero')\n",
    "data_x_without.pop('d5_hero')\n",
    "print('Размер объекта после:', data_x_without.shape)"
   ]
  },
  {
   "cell_type": "markdown",
   "metadata": {},
   "source": [
    "#### Нормализуем данные"
   ]
  },
  {
   "cell_type": "code",
   "execution_count": 71,
   "metadata": {},
   "outputs": [],
   "source": [
    "scaler = StandardScaler()\n",
    "data_x_without_normal = scaler.fit_transform(data_x_without)"
   ]
  },
  {
   "cell_type": "markdown",
   "metadata": {},
   "source": [
    "#### Запускаем обучение"
   ]
  },
  {
   "cell_type": "code",
   "execution_count": 14,
   "metadata": {},
   "outputs": [
    {
     "name": "stdout",
     "output_type": "stream",
     "text": [
      "Регуляризация(C): 1e-05\n",
      "ROC-AUC: 0.6974806717615767\n",
      "Алгоритм обучался по KFold: 0:00:04.888385\n",
      "Регуляризация(C): 0.0001\n",
      "ROC-AUC: 0.7140607212347175\n",
      "Алгоритм обучался по KFold: 0:00:08.014314\n",
      "Регуляризация(C): 0.001\n",
      "ROC-AUC: 0.7190274774316969\n",
      "Алгоритм обучался по KFold: 0:00:15.102961\n",
      "Регуляризация(C): 0.01\n",
      "ROC-AUC: 0.7191907150638098\n",
      "Алгоритм обучался по KFold: 0:00:21.389856\n",
      "Регуляризация(C): 1.0\n",
      "ROC-AUC: 0.7191575272634679\n",
      "Алгоритм обучался по KFold: 0:00:23.064175\n",
      "Регуляризация(C): 10.0\n",
      "ROC-AUC: 0.7191573449191618\n",
      "Алгоритм обучался по KFold: 0:00:23.008132\n",
      "Регуляризация(C): 100.0\n",
      "ROC-AUC: 0.7191573406634937\n",
      "Алгоритм обучался по KFold: 0:00:23.078791\n",
      "Регуляризация(C): 1000.0\n",
      "ROC-AUC: 0.7191573618462848\n",
      "Алгоритм обучался по KFold: 0:00:23.388540\n",
      "Регуляризация(C): 10000.0\n",
      "ROC-AUC: 0.7191573512446267\n",
      "Алгоритм обучался по KFold: 0:00:23.179300\n",
      "Регуляризация(C): 100000.0\n",
      "ROC-AUC: 0.7191573491249009\n",
      "Алгоритм обучался по KFold: 0:00:22.515709\n"
     ]
    }
   ],
   "source": [
    "for i in (0.00001, 0.0001, 0.001, 0.01, 1.0, 10.0, 100.0, 1000.0, 10000.0, 100000.0):\n",
    "    print ('Регуляризация(C):', i)\n",
    "    score = 0;\n",
    "    model3 = LogisticRegression(random_state=241, penalty='l2', C=i)\n",
    "    start_time = datetime.datetime.now()\n",
    "    for train, test in cv.split(data_x_without_normal):\n",
    "        model3.fit(data_x_without_normal[train], data_y.iloc[train])\n",
    "        predict = model3.predict_proba(data_x_without_normal[test])\n",
    "        score = score + roc_auc_score(data_y.iloc[test], predict.transpose()[1])\n",
    "    print ('ROC-AUC:', score/5)\n",
    "    print ('Алгоритм обучался по KFold:', datetime.datetime.now() - start_time)"
   ]
  },
  {
   "cell_type": "markdown",
   "metadata": {},
   "source": [
    "## 5. Линейная регрессия + мешок слов"
   ]
  },
  {
   "cell_type": "markdown",
   "metadata": {},
   "source": [
    "#### Определение уникальных героев"
   ]
  },
  {
   "cell_type": "code",
   "execution_count": 15,
   "metadata": {},
   "outputs": [
    {
     "name": "stdout",
     "output_type": "stream",
     "text": [
      "Количество уникальных героев в НАШЕЙ выборке: 108\n"
     ]
    }
   ],
   "source": [
    "heros_id = set(data_x[['r1_hero', 'r2_hero', 'r3_hero', 'r4_hero', 'r5_hero', 'd1_hero', 'd2_hero', 'd3_hero', 'd4_hero', 'd5_hero']].values.ravel())\n",
    "count = 0\n",
    "for i in heros_id:\n",
    "    count = count + 1\n",
    "print ('Количество уникальных героев в НАШЕЙ выборке:', count)"
   ]
  },
  {
   "cell_type": "markdown",
   "metadata": {},
   "source": [
    "#### Добавление мешка слов"
   ]
  },
  {
   "cell_type": "code",
   "execution_count": 72,
   "metadata": {},
   "outputs": [
    {
     "name": "stdout",
     "output_type": "stream",
     "text": [
      "Размер до мешка слов: (97230, 91)\n"
     ]
    },
    {
     "name": "stderr",
     "output_type": "stream",
     "text": [
      "C:\\ProgramData\\Anaconda3\\lib\\site-packages\\ipykernel_launcher.py:5: DeprecationWarning: \n",
      ".ix is deprecated. Please use\n",
      ".loc for label based indexing or\n",
      ".iloc for positional indexing\n",
      "\n",
      "See the documentation here:\n",
      "http://pandas.pydata.org/pandas-docs/stable/indexing.html#ix-indexer-is-deprecated\n",
      "  \"\"\"\n",
      "C:\\ProgramData\\Anaconda3\\lib\\site-packages\\ipykernel_launcher.py:6: DeprecationWarning: \n",
      ".ix is deprecated. Please use\n",
      ".loc for label based indexing or\n",
      ".iloc for positional indexing\n",
      "\n",
      "See the documentation here:\n",
      "http://pandas.pydata.org/pandas-docs/stable/indexing.html#ix-indexer-is-deprecated\n",
      "  \n"
     ]
    },
    {
     "name": "stdout",
     "output_type": "stream",
     "text": [
      "Размер с мешком слов: (97230, 203)\n"
     ]
    }
   ],
   "source": [
    "X_pick = np.zeros((data_x.shape[0], 112)) #Используем максимальный id героя в выборке\n",
    "print ('Размер до мешка слов:', data_x_without_normal.shape)\n",
    "for i, match_id in enumerate(data_x.index):\n",
    "    for p in (0, 1, 2, 3, 4):\n",
    "        X_pick[i, data_x.ix[match_id, 'r%d_hero' % (p+1)] - 1] = 1\n",
    "        X_pick[i, data_x.ix[match_id, 'd%d_hero' % (p+1)] - 1] = -1\n",
    "data_x_withBag_normal = np.column_stack((data_x_without_normal, X_pick))\n",
    "print ('Размер с мешком слов:', data_x_withBag_normal.shape)"
   ]
  },
  {
   "cell_type": "markdown",
   "metadata": {},
   "source": [
    "#### Запускаем обучение "
   ]
  },
  {
   "cell_type": "code",
   "execution_count": 18,
   "metadata": {},
   "outputs": [
    {
     "name": "stdout",
     "output_type": "stream",
     "text": [
      "Регуляризация(C): 1e-05\n",
      "ROC-AUC: 0.7015617104785626\n",
      "Алгоритм обучался по KFold: 0:00:05.632555\n",
      "Регуляризация(C): 0.0001\n",
      "ROC-AUC: 0.7275936120136889\n",
      "Алгоритм обучался по KFold: 0:00:09.114179\n",
      "Регуляризация(C): 0.001\n",
      "ROC-AUC: 0.748555854643419\n",
      "Алгоритм обучался по KFold: 0:00:20.552200\n",
      "Регуляризация(C): 0.01\n",
      "ROC-AUC: 0.7539132525548672\n",
      "Алгоритм обучался по KFold: 0:00:33.174699\n",
      "Регуляризация(C): 1.0\n",
      "ROC-AUC: 0.7540937106329834\n",
      "Алгоритм обучался по KFold: 0:00:48.642505\n",
      "Регуляризация(C): 10.0\n",
      "ROC-AUC: 0.754091723690034\n",
      "Алгоритм обучался по KFold: 0:00:47.673569\n",
      "Регуляризация(C): 100.0\n",
      "ROC-AUC: 0.7540914651488226\n",
      "Алгоритм обучался по KFold: 0:00:48.854014\n",
      "Регуляризация(C): 1000.0\n",
      "ROC-AUC: 0.754091437607695\n",
      "Алгоритм обучался по KFold: 0:00:48.330088\n",
      "Регуляризация(C): 10000.0\n",
      "ROC-AUC: 0.7540913804366418\n",
      "Алгоритм обучался по KFold: 0:00:47.625585\n",
      "Регуляризация(C): 100000.0\n",
      "ROC-AUC: 0.7540913041249849\n",
      "Алгоритм обучался по KFold: 0:00:46.597724\n"
     ]
    }
   ],
   "source": [
    "for i in (0.00001, 0.0001, 0.001, 0.01, 1.0, 10.0, 100.0, 1000.0, 10000.0, 100000.0):\n",
    "    print ('Регуляризация(C):', i)\n",
    "    score = 0;\n",
    "    model4 = LogisticRegression(random_state=241, penalty='l2', C=i)\n",
    "    start_time = datetime.datetime.now()\n",
    "    for train, test in cv.split(data_x_withBag_normal):\n",
    "        model4.fit(data_x_withBag_normal[train], data_y.iloc[train])\n",
    "        predict = model4.predict_proba(data_x_withBag_normal[test])\n",
    "        score = score + roc_auc_score(data_y.iloc[test], predict.transpose()[1])\n",
    "    print ('ROC-AUC:', score/5)\n",
    "    print ('Алгоритм обучался по KFold:', datetime.datetime.now() - start_time)"
   ]
  },
  {
   "cell_type": "markdown",
   "metadata": {},
   "source": [
    "## 6. Обучение финальной модели"
   ]
  },
  {
   "cell_type": "code",
   "execution_count": 73,
   "metadata": {},
   "outputs": [],
   "source": [
    "data_test = pd.read_csv('C:/features_test.csv', index_col='match_id')\n",
    "data_test = data_test.fillna(0)\n",
    "data_test_without = data_test.copy()"
   ]
  },
  {
   "cell_type": "code",
   "execution_count": 74,
   "metadata": {},
   "outputs": [
    {
     "name": "stdout",
     "output_type": "stream",
     "text": [
      "Размер объекта до: (17177, 102)\n",
      "Размер объекта после: (17177, 91)\n"
     ]
    }
   ],
   "source": [
    "print('Размер объекта до:', data_test_without.shape)\n",
    "data_test_without.pop('lobby_type')\n",
    "data_test_without.pop('r1_hero')\n",
    "data_test_without.pop('r2_hero')\n",
    "data_test_without.pop('r3_hero')\n",
    "data_test_without.pop('r4_hero')\n",
    "data_test_without.pop('r5_hero')\n",
    "data_test_without.pop('d1_hero')\n",
    "data_test_without.pop('d2_hero')\n",
    "data_test_without.pop('d3_hero')\n",
    "data_test_without.pop('d4_hero')\n",
    "data_test_without.pop('d5_hero')\n",
    "print('Размер объекта после:', data_test_without.shape)"
   ]
  },
  {
   "cell_type": "code",
   "execution_count": 75,
   "metadata": {},
   "outputs": [],
   "source": [
    "scaler = StandardScaler()\n",
    "data_test_without_normal = scaler.fit_transform(data_test_without)"
   ]
  },
  {
   "cell_type": "code",
   "execution_count": 76,
   "metadata": {},
   "outputs": [
    {
     "name": "stdout",
     "output_type": "stream",
     "text": [
      "Размер до мешка слов: (17177, 91)\n"
     ]
    },
    {
     "name": "stderr",
     "output_type": "stream",
     "text": [
      "C:\\ProgramData\\Anaconda3\\lib\\site-packages\\ipykernel_launcher.py:5: DeprecationWarning: \n",
      ".ix is deprecated. Please use\n",
      ".loc for label based indexing or\n",
      ".iloc for positional indexing\n",
      "\n",
      "See the documentation here:\n",
      "http://pandas.pydata.org/pandas-docs/stable/indexing.html#ix-indexer-is-deprecated\n",
      "  \"\"\"\n",
      "C:\\ProgramData\\Anaconda3\\lib\\site-packages\\ipykernel_launcher.py:6: DeprecationWarning: \n",
      ".ix is deprecated. Please use\n",
      ".loc for label based indexing or\n",
      ".iloc for positional indexing\n",
      "\n",
      "See the documentation here:\n",
      "http://pandas.pydata.org/pandas-docs/stable/indexing.html#ix-indexer-is-deprecated\n",
      "  \n"
     ]
    },
    {
     "name": "stdout",
     "output_type": "stream",
     "text": [
      "Размер с мешком слов: (17177, 203)\n"
     ]
    }
   ],
   "source": [
    "X_pick = np.zeros((data_test.shape[0], 112)) #Используем максимальный id героя в выборке\n",
    "print ('Размер до мешка слов:', data_test_without.shape)\n",
    "for i, match_id in enumerate(data_test.index):\n",
    "    for p in (0, 1, 2, 3, 4):\n",
    "        X_pick[i, data_test.ix[match_id, 'r%d_hero' % (p+1)] - 1] = 1\n",
    "        X_pick[i, data_test.ix[match_id, 'd%d_hero' % (p+1)] - 1] = -1\n",
    "data_test_withBag = np.column_stack((data_test_without_normal, X_pick))\n",
    "print ('Размер с мешком слов:', data_test_withBag.shape)"
   ]
  },
  {
   "cell_type": "code",
   "execution_count": 77,
   "metadata": {},
   "outputs": [],
   "source": [
    "model5 = LogisticRegression(random_state=241, penalty='l2', C=100000)"
   ]
  },
  {
   "cell_type": "code",
   "execution_count": 78,
   "metadata": {},
   "outputs": [
    {
     "data": {
      "text/plain": [
       "LogisticRegression(C=100000, class_weight=None, dual=False,\n",
       "          fit_intercept=True, intercept_scaling=1, max_iter=100,\n",
       "          multi_class='ovr', n_jobs=1, penalty='l2', random_state=241,\n",
       "          solver='liblinear', tol=0.0001, verbose=0, warm_start=False)"
      ]
     },
     "execution_count": 78,
     "metadata": {},
     "output_type": "execute_result"
    }
   ],
   "source": [
    "model5.fit(data_x_withBag_normal, data_y)"
   ]
  },
  {
   "cell_type": "code",
   "execution_count": 83,
   "metadata": {},
   "outputs": [],
   "source": [
    "predict = model5.predict_proba(data_test_withBag)"
   ]
  },
  {
   "cell_type": "code",
   "execution_count": 84,
   "metadata": {},
   "outputs": [
    {
     "name": "stdout",
     "output_type": "stream",
     "text": [
      "[[0.17420978 0.82579022]\n",
      " [0.24122368 0.75877632]\n",
      " [0.81303031 0.18696969]\n",
      " ...\n",
      " [0.7652392  0.2347608 ]\n",
      " [0.37113753 0.62886247]\n",
      " [0.57456705 0.42543295]]\n"
     ]
    }
   ],
   "source": [
    "print(predict)"
   ]
  },
  {
   "cell_type": "code",
   "execution_count": null,
   "metadata": {},
   "outputs": [],
   "source": []
  }
 ],
 "metadata": {
  "kernelspec": {
   "display_name": "Python 3",
   "language": "python",
   "name": "python3"
  },
  "language_info": {
   "codemirror_mode": {
    "name": "ipython",
    "version": 3
   },
   "file_extension": ".py",
   "mimetype": "text/x-python",
   "name": "python",
   "nbconvert_exporter": "python",
   "pygments_lexer": "ipython3",
   "version": "3.7.0"
  }
 },
 "nbformat": 4,
 "nbformat_minor": 2
}
