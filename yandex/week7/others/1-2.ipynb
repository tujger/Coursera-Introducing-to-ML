{
 "cells": [
  {
   "cell_type": "code",
   "execution_count": null,
   "metadata": {},
   "outputs": [],
   "source": [
    "import pandas as pd\n",
    "import datetime"
   ]
  },
  {
   "cell_type": "code",
   "execution_count": null,
   "metadata": {},
   "outputs": [],
   "source": [
    "#  1-1.Считайте таблицу с признаками из файла features.csv с помощью кода, приведенного выше. \n",
    "# Удалите признаки, связанные с итогами матча (они помечены в описании данных как отсутствующие в тестовой выборке).\n",
    "data_class = pd.read_csv(r'''C:\\Users\\data\\features.csv''', index_col='match_id')\n",
    "y_fact=data_class['radiant_win']\n",
    "x_fact=data_class.drop(['duration','tower_status_radiant','tower_status_dire','barracks_status_radiant',\n",
    "                        'barracks_status_dire','radiant_win'],axis=1)"
   ]
  },
  {
   "cell_type": "code",
   "execution_count": null,
   "metadata": {},
   "outputs": [],
   "source": [
    "#  1-2. Проверьте выборку на наличие пропусков с помощью функции count(), которая для каждого столбца показывает \n",
    "# число заполненных значений. Много ли пропусков в данных? Запишите названия признаков, имеющих пропуски, \n",
    "# и попробуйте для любых двух из них дать обоснование, почему их значения могут быть пропущены.\n",
    "deltaX_fact=x_fact.count()-len(x_fact)\n",
    "deltaX_fact[deltaX_fact!=0]"
   ]
  },
  {
   "cell_type": "code",
   "execution_count": null,
   "metadata": {},
   "outputs": [],
   "source": [
    "#  1-3. Замените пропуски на нули с помощью функции fillna(). На самом деле этот способ является предпочтительным для \n",
    "# логистической регрессии, поскольку он позволит пропущенному значению не вносить никакого вклада в предсказание.\n",
    "# Для деревьев часто лучшим вариантом оказывается замена пропуска на очень большое или очень маленькое значение — \n",
    "# в этом случае при построении разбиения вершины можно будет отправить объекты с пропусками в отдельную ветвь дерева.\n",
    "# Также есть и другие подходы — например, замена пропуска на среднее значение признака. Мы не требуем этого в задании, \n",
    "# но при желании попробуйте разные подходы к обработке пропусков и сравните их между собой.\n",
    "x_fact=x_fact.fillna(10000000)"
   ]
  },
  {
   "cell_type": "code",
   "execution_count": null,
   "metadata": {},
   "outputs": [],
   "source": [
    "# 1-4 Какой столбец содержит целевую переменную? Запишите его название.\n",
    "\n",
    "# radiant_win - целевая переменная"
   ]
  },
  {
   "cell_type": "code",
   "execution_count": null,
   "metadata": {},
   "outputs": [],
   "source": [
    "#  1-5 Забудем, что в выборке есть категориальные признаки, и попробуем обучить градиентный бустинг над деревьями на \n",
    "# имеющейся матрице \"объекты-признаки\". Зафиксируйте генератор разбиений для кросс-валидации по 5 блокам (KFold), не \n",
    "# забудьте перемешать при этом выборку (shuffle=True), поскольку данные в таблице отсортированы по времени, и без \n",
    "# перемешивания можно столкнуться с нежелательными эффектами при оценивании качества. Оцените качество градиентного бустинга \n",
    "# (GradientBoostingClassifier) с помощью данной кросс-валидации, попробуйте при этом разное количество деревьев (как минимум \n",
    "# протестируйте следующие значения для количества деревьев: 10, 20, 30). Долго ли настраивались классификаторы? Достигнут ли\n",
    "# оптимум на испытанных значениях параметра n_estimators, или же качество, скорее всего, продолжит расти при \n",
    "# дальнейшем его увеличении?"
   ]
  },
  {
   "cell_type": "code",
   "execution_count": null,
   "metadata": {},
   "outputs": [],
   "source": [
    "from sklearn.model_selection import cross_val_score\n",
    "from sklearn.model_selection import KFold\n",
    "from sklearn.ensemble import GradientBoostingClassifier\n",
    "resdfGBM=pd.DataFrame()\n",
    "restimeGBM=pd.DataFrame()\n",
    "\n",
    "def class_GBM(n_est):\n",
    "    GBM_cl=GradientBoostingClassifier(n_estimators=n_est)\n",
    "    my_cv=KFold(n_splits=5,shuffle=True)\n",
    "    return cross_val_score(GBM_cl, x_fact, y_fact, cv=my_cv, scoring='roc_auc')\n",
    "\n",
    "for i in range(10,100,10):\n",
    "    start_time = datetime.datetime.now()\n",
    "    resdfGBM[i]=class_GBM(i)\n",
    "    restimeGBM.loc[i,'time']=(datetime.datetime.now() - start_time).total_seconds()"
   ]
  },
  {
   "cell_type": "code",
   "execution_count": null,
   "metadata": {},
   "outputs": [],
   "source": [
    "В отчете по данному этапу вы должны ответить на следующие вопросы:"
   ]
  },
  {
   "cell_type": "code",
   "execution_count": null,
   "metadata": {},
   "outputs": [],
   "source": [
    "1) Какие признаки имеют пропуски среди своих значений? Что могут означать пропуски в этих признаках (ответьте на этот вопрос для двух любых признаков)?\n",
    "first_blood_time              -19553\n",
    "first_blood_team              -19553\n",
    "first_blood_player1           -19553\n",
    "first_blood_player2           -43987\n",
    "radiant_bottle_time           -15691\n",
    "radiant_courier_time            -692\n",
    "radiant_flying_courier_time   -27479\n",
    "radiant_first_ward_time        -1836\n",
    "dire_bottle_time              -16143\n",
    "dire_courier_time               -676\n",
    "dire_flying_courier_time      -26098\n",
    "dire_first_ward_time           -1826\n",
    "first_blood_time,first_blood_team и остальные first_blood отсутсвуют значения т.к. не было убийств в течение 5 первых минут"
   ]
  },
  {
   "cell_type": "code",
   "execution_count": null,
   "metadata": {},
   "outputs": [],
   "source": [
    "2) Как называется столбец, содержащий целевую переменную?\n",
    "radiant_win - целевая переменная"
   ]
  },
  {
   "cell_type": "code",
   "execution_count": null,
   "metadata": {},
   "outputs": [],
   "source": [
    "3) Как долго проводилась кросс-валидация для градиентного бустинга с 30 деревьями? Инструкцию по измерению времени можно найти ниже по тексту. Какое качество при этом получилось? Напомним, что в данном задании мы используем метрику качества AUC-ROC.\n",
    "на 30 деревьях качество  0.690242\n",
    "время на 30 деревьях  99.79 сек."
   ]
  },
  {
   "cell_type": "code",
   "execution_count": null,
   "metadata": {},
   "outputs": [],
   "source": [
    "4) Имеет ли смысл использовать больше 30 деревьев в градиентном бустинге? Что бы вы предложили делать, чтобы ускорить его обучение при увеличении количества деревьев?\n",
    "сильно увеличивается время расчета при больще 30 деревьях несоизмеримая с приростом качетства\n",
    "для ускорения расчета:\n",
    "Предлагается накладывать ограничения на деревья например глубина\n",
    "или ограничение на выборку( брать не всю выборку)"
   ]
  },
  {
   "cell_type": "code",
   "execution_count": null,
   "metadata": {},
   "outputs": [],
   "source": [
    "#  2-1. Оцените качество логистической регрессии (sklearn.linear_model.LogisticRegression с L2-регуляризацией) с помощью \n",
    "# кросс-валидации по той же схеме, которая использовалась для градиентного бустинга. Подберите при этом лучший параметр\n",
    "# регуляризации (C). Какое наилучшее качество у вас получилось? Как оно соотносится с качеством градиентного бустинга? \n",
    "# Чем вы можете объяснить эту разницу? Быстрее ли работает логистическая регрессия по сравнению с градиентным бустингом?"
   ]
  },
  {
   "cell_type": "code",
   "execution_count": 68,
   "metadata": {},
   "outputs": [
    {
     "data": {
      "text/plain": [
       "\"\\nscaler = StandardScaler()\\nScaled_x=scaler.fit_transform(x_fact1)\\nresdfLR=pd.DataFrame()\\nrestimeLR=pd.DataFrame()\\ndef class_LR(n_c):\\n    LR_cl=LogisticRegression(C=n_c)\\n    my_cv=KFold(n_splits=5,shuffle=True)\\n    return cross_val_score(LR_cl, Scaled_x, y_fact, cv=my_cv, scoring='roc_auc')\\nfor i in range(1,10,1):\\n    int_s=pow(10,i-5)\\n    start_time = datetime.datetime.now()\\n    resdfLR[int_s]=class_LR(int_s)\\n    restimeLR.loc[i,'time']=(datetime.datetime.now() - start_time).total_seconds()\\n\""
      ]
     },
     "execution_count": 68,
     "metadata": {},
     "output_type": "execute_result"
    }
   ],
   "source": [
    "import pandas as pd\n",
    "import numpy as np\n",
    "import datetime\n",
    "from sklearn.model_selection import cross_val_score\n",
    "from sklearn.model_selection import KFold\n",
    "from sklearn.preprocessing import StandardScaler\n",
    "from sklearn.linear_model import LogisticRegression\n",
    "\n",
    "data_class = pd.read_csv(r'''C:\\Users\\data\\features.csv''', index_col='match_id')\n",
    "y_fact=data_class['radiant_win']\n",
    "x_fact1=data_class.drop(['duration','tower_status_radiant','tower_status_dire','barracks_status_radiant',\n",
    "                        'barracks_status_dire','radiant_win'],axis=1)\n",
    "x_fact1=x_fact1.fillna(10000000)\n",
    "scaler = StandardScaler()\n",
    "Scaled_x=scaler.fit_transform(x_fact1)\n",
    "resdfLR=pd.DataFrame()\n",
    "restimeLR=pd.DataFrame()\n",
    "def class_LR(n_c):\n",
    "    LR_cl=LogisticRegression(C=n_c)\n",
    "    my_cv=KFold(n_splits=5,shuffle=True)\n",
    "    return cross_val_score(LR_cl, Scaled_x, y_fact, cv=my_cv, scoring='roc_auc')\n",
    "for i in range(1,10,1):\n",
    "    int_s=pow(10,i-5)\n",
    "    start_time = datetime.datetime.now()\n",
    "    resdfLR[int_s]=class_LR(int_s)\n",
    "    restimeLR.loc[i,'time']=(datetime.datetime.now() - start_time).total_seconds()\n"
   ]
  },
  {
   "cell_type": "code",
   "execution_count": null,
   "metadata": {},
   "outputs": [],
   "source": [
    "#  2-2. Среди признаков в выборке есть категориальные, которые мы использовали как числовые, что вряд ли является хорошей \n",
    "# идеей. Категориальных признаков в этой задаче одиннадцать: lobby_type и r1_hero, r2_hero, ..., r5_hero, d1_hero,\n",
    "# d2_hero, ..., d5_hero. Уберите их из выборки, и проведите кросс-валидацию для логистической регрессии на новой\n",
    "# выборке с подбором лучшего параметра регуляризации. Изменилось ли качество? Чем вы можете это объяснить?"
   ]
  },
  {
   "cell_type": "code",
   "execution_count": 64,
   "metadata": {},
   "outputs": [],
   "source": [
    "y_fact=data_class['radiant_win']\n",
    "x_fact2=data_class.drop(['duration','tower_status_radiant','tower_status_dire','barracks_status_radiant',\n",
    "                        'barracks_status_dire','radiant_win','lobby_type', 'r1_hero',  'r2_hero', 'r3_hero',\n",
    "                        'r4_hero', 'r5_hero', 'd1_hero', 'd2_hero', 'd3_hero', 'd4_hero', 'd5_hero'],axis=1)\n",
    "x_fact2=x_fact2.fillna(10000000)\n",
    "scaler = StandardScaler()\n",
    "Scaled_x=scaler.fit_transform(x_fact2)\n",
    "resdfLR=pd.DataFrame()\n",
    "restimeLR=pd.DataFrame()\n",
    "def class_LR(n_c):\n",
    "    LR_cl=LogisticRegression(C=n_c)\n",
    "    my_cv=KFold(n_splits=5,shuffle=True)\n",
    "    return cross_val_score(LR_cl, Scaled_x, y_fact, cv=my_cv, scoring='roc_auc')\n",
    "for i in range(1,10,1):\n",
    "    start_time = datetime.datetime.now()\n",
    "    resdfLR[i]=class_LR(i)\n",
    "    restimeLR.loc[i,'time']=(datetime.datetime.now() - start_time).total_seconds()"
   ]
  },
  {
   "cell_type": "code",
   "execution_count": 108,
   "metadata": {},
   "outputs": [
    {
     "data": {
      "text/plain": [
       "8"
      ]
     },
     "execution_count": 108,
     "metadata": {},
     "output_type": "execute_result"
    }
   ],
   "source": [
    "resdfLR.mean().idxmax()"
   ]
  },
  {
   "cell_type": "code",
   "execution_count": null,
   "metadata": {},
   "outputs": [],
   "source": [
    "#  2-3 На предыдущем шаге мы исключили из выборки признаки rM_hero и dM_hero, которые показывают, какие именно герои играли\n",
    "# за каждую команду. Это важные признаки — герои имеют разные характеристики, и некоторые из них выигрывают чаще, чем \n",
    "# другие. Выясните из данных, сколько различных идентификаторов героев существует в данной игре (вам может пригодиться \n",
    "# фукнция unique или value_counts)."
   ]
  },
  {
   "cell_type": "code",
   "execution_count": null,
   "metadata": {},
   "outputs": [],
   "source": [
    "ss=data_class[['r1_hero',  'r2_hero', 'r3_hero', 'r4_hero', 'r5_hero', 'd1_hero', 'd2_hero', 'd3_hero', 'd4_hero', 'd5_hero']]\n",
    "len(pd.unique(np.array(ss)))"
   ]
  },
  {
   "cell_type": "code",
   "execution_count": null,
   "metadata": {},
   "outputs": [],
   "source": [
    "#  2-4. Воспользуемся подходом \"мешок слов\" для кодирования информации о героях. Пусть всего в игре имеет N различных героев. \n",
    "# Сформируем N признаков, при этом i-й будет равен нулю, если i-й герой не участвовал в матче; единице, если i-й герой \n",
    "# играл за команду Radiant; минус единице, если i-й герой играл за команду Dire. Ниже вы можете найти код, который выполняет\n",
    "# данной преобразование. Добавьте полученные признаки к числовым, которые вы использовали во втором пункте данного этапа."
   ]
  },
  {
   "cell_type": "code",
   "execution_count": 69,
   "metadata": {
    "scrolled": true
   },
   "outputs": [],
   "source": [
    "X_pick = np.zeros((x_fact1.shape[0], 112))\n",
    "\n",
    "for i, match_id in enumerate(x_fact1.index):\n",
    "    for p in range(5):\n",
    "        X_pick[i, x_fact1.loc[match_id, 'r%d_hero' % (p+1)]-1] = 1\n",
    "        X_pick[i, x_fact1.loc[match_id, 'd%d_hero' % (p+1)]-1] = -1"
   ]
  },
  {
   "cell_type": "code",
   "execution_count": null,
   "metadata": {},
   "outputs": [],
   "source": [
    "#  2-5. Проведите кросс-валидацию для логистической регрессии на новой выборке с подбором лучшего параметра регуляризации.\n",
    "# Какое получилось качество? Улучшилось ли оно? Чем вы можете это объяснить?"
   ]
  },
  {
   "cell_type": "code",
   "execution_count": 99,
   "metadata": {},
   "outputs": [
    {
     "data": {
      "text/plain": [
       "\"\\nresdfLR=pd.DataFrame()\\nrestimeLR=pd.DataFrame()\\ndef class_LR(n_c):\\n    LR_cl=LogisticRegression(C=n_c,random_state=42)\\n    my_cv=KFold(n_splits=5,shuffle=True)\\n    return cross_val_score(LR_cl, New_X, y_fact, cv=my_cv, scoring='roc_auc')\\nfor i in range(1,10,1):\\n    int_s=pow(10,i-5)\\n    start_time = datetime.datetime.now()\\n    resdfLR[i]=class_LR(int_s)\\n    restimeLR.loc[i,'time']=(datetime.datetime.now() - start_time).total_seconds()\\n    \""
      ]
     },
     "execution_count": 99,
     "metadata": {},
     "output_type": "execute_result"
    }
   ],
   "source": [
    "x_fact2=data_class.drop(['duration','tower_status_radiant','tower_status_dire','barracks_status_radiant',\n",
    "                        'barracks_status_dire','radiant_win','lobby_type', 'r1_hero',  'r2_hero', 'r3_hero',\n",
    "                        'r4_hero', 'r5_hero', 'd1_hero', 'd2_hero', 'd3_hero', 'd4_hero', 'd5_hero'],axis=1)\n",
    "x_fact2=x_fact2.fillna(10000000)\n",
    "scaler = StandardScaler()\n",
    "x_fact3=scaler.fit_transform(x_fact2)\n",
    "x_fact3=pd.DataFrame(x_fact3, index=x_fact2.index)\n",
    "New_X=pd.concat([x_fact3, pd.DataFrame(X_pick,index=x_fact3.index)], axis=1)\n",
    "\n",
    "resdfLR=pd.DataFrame()\n",
    "restimeLR=pd.DataFrame()\n",
    "def class_LR(n_c):\n",
    "    LR_cl=LogisticRegression(C=n_c,random_state=42)\n",
    "    my_cv=KFold(n_splits=5,shuffle=True)\n",
    "    return cross_val_score(LR_cl, New_X, y_fact, cv=my_cv, scoring='roc_auc')\n",
    "for i in range(1,10,1):\n",
    "    int_s=pow(10,i-5)\n",
    "    start_time = datetime.datetime.now()\n",
    "    resdfLR[i]=class_LR(int_s)\n",
    "    restimeLR.loc[i,'time']=(datetime.datetime.now() - start_time).total_seconds()"
   ]
  },
  {
   "cell_type": "code",
   "execution_count": null,
   "metadata": {},
   "outputs": [],
   "source": [
    "#  2-6. Постройте предсказания вероятностей победы команды Radiant для тестовой выборки с помощью лучшей из изученных \n",
    "# моделей (лучшей с точки зрения AUC-ROC на кросс-валидации). Убедитесь, что предсказанные вероятности адекватные\n",
    "# — находятся на отрезке [0, 1], не совпадают между собой (т.е. что модель не получилась константной)."
   ]
  },
  {
   "cell_type": "code",
   "execution_count": 100,
   "metadata": {},
   "outputs": [],
   "source": [
    "data_test = pd.read_csv(r'''C:\\Users\\data\\features_test.csv''', index_col='match_id')\n",
    "x_fact2=data_class.drop(['duration','tower_status_radiant','tower_status_dire','barracks_status_radiant',\n",
    "                        'barracks_status_dire','radiant_win','lobby_type', 'r1_hero',  'r2_hero', 'r3_hero',\n",
    "                        'r4_hero', 'r5_hero', 'd1_hero', 'd2_hero', 'd3_hero', 'd4_hero', 'd5_hero'],axis=1)\n",
    "x_fact2=x_fact2.fillna(10000000)\n",
    "scaler = StandardScaler()\n",
    "x_fact3=scaler.fit_transform(x_fact2)\n",
    "x_fact3=pd.DataFrame(x_fact3, index=x_fact2.index)\n",
    "\n",
    "X_pick = np.zeros((x_fact1.shape[0], 112))\n",
    "\n",
    "for i, match_id in enumerate(x_fact3.index):\n",
    "    for p in range(5):\n",
    "        X_pick[i, x_fact1.loc[match_id, 'r%d_hero' % (p+1)]-1] = 1\n",
    "        X_pick[i, x_fact1.loc[match_id, 'd%d_hero' % (p+1)]-1] = -1\n",
    "New_X_test=pd.concat([x_fact3, pd.DataFrame(X_pick,index=x_fact3.index)], axis=1)"
   ]
  },
  {
   "cell_type": "code",
   "execution_count": 103,
   "metadata": {},
   "outputs": [],
   "source": [
    "LR_cl=LogisticRegression(C=1000,random_state=42)\n",
    "my_cv=KFold(n_splits=5,shuffle=True)\n",
    "LR_cl.fit(New_X,y_fact)\n",
    "res_vect=LR_cl.predict_proba(New_X_test)"
   ]
  },
  {
   "cell_type": "code",
   "execution_count": 107,
   "metadata": {},
   "outputs": [
    {
     "name": "stdout",
     "output_type": "stream",
     "text": [
      "0.001169886388683693\n",
      "0.9988301136113164\n"
     ]
    }
   ],
   "source": [
    "print(res_vect.min())\n",
    "print(res_vect.max())"
   ]
  },
  {
   "cell_type": "code",
   "execution_count": null,
   "metadata": {},
   "outputs": [],
   "source": [
    "В отчете по данному этапу вы должны ответить на следующие вопросы:\n"
   ]
  },
  {
   "cell_type": "code",
   "execution_count": null,
   "metadata": {},
   "outputs": [],
   "source": [
    "#  1-1. Какое качество получилось у логистической регрессии над всеми исходными признаками? Как оно соотносится с качеством \n",
    "# градиентного бустинга? Чем вы можете объяснить эту разницу? Быстрее ли работает логистическая регрессия по сравнению \n",
    "# с градиентным бустингом?\n",
    "лучший параметр 0.0100    лучшее качество    0.715811\n",
    "логистическая регрессия по сравнению с градиентным бустингом работает гораздо быстрее \n"
   ]
  },
  {
   "cell_type": "code",
   "execution_count": null,
   "metadata": {},
   "outputs": [],
   "source": [
    "# 1-2.Как влияет на качество логистической регрессии удаление категориальных признаков (укажите новое значение метрики качества)?\n",
    "# Чем вы можете объяснить это изменение?\n",
    "лучший параметр 0.0100  лучшее качество  0.715803\n",
    "без категориальных признаков качество не изменилось,  т.к. категориальные признаки значительно не влияли на класификацию"
   ]
  },
  {
   "cell_type": "code",
   "execution_count": null,
   "metadata": {},
   "outputs": [],
   "source": [
    "# 1-3. Сколько различных идентификаторов героев существует в данной игре?\n",
    "108 различных идентификаторов героев существует, макимальный номер 112"
   ]
  },
  {
   "cell_type": "code",
   "execution_count": null,
   "metadata": {},
   "outputs": [],
   "source": [
    "# 1-4. Какое получилось качество при добавлении \"мешка слов\" по героям? Улучшилось ли оно по сравнению с \n",
    "# предыдущим вариантом? Чем вы можете это объяснить?\n",
    "лучший параметр 1000  roc_auc 0.751952\n",
    "качество значительно улучшилось(~0.04), так как категориальные признаки преобразованы в матрицу. В других экпериментах эти данные \n",
    "отсутсвовали, либо учитывались, как значения индефикатора героя, что не показательно."
   ]
  },
  {
   "cell_type": "code",
   "execution_count": null,
   "metadata": {},
   "outputs": [],
   "source": [
    "# 1-5. Какое минимальное и максимальное значение прогноза на тестовой выборке получилось у лучшего из алгоритмов?\n",
    "мин: 0.001169886388683693\n",
    "макс: 0.9988301136113164"
   ]
  }
 ],
 "metadata": {
  "kernelspec": {
   "display_name": "Python 3",
   "language": "python",
   "name": "python3"
  },
  "language_info": {
   "codemirror_mode": {
    "name": "ipython",
    "version": 3
   },
   "file_extension": ".py",
   "mimetype": "text/x-python",
   "name": "python",
   "nbconvert_exporter": "python",
   "pygments_lexer": "ipython3",
   "version": "3.6.5"
  }
 },
 "nbformat": 4,
 "nbformat_minor": 2
}
